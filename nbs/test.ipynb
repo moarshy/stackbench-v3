{
 "cells": [
  {
   "cell_type": "code",
   "execution_count": 1,
   "id": "37b380f0",
   "metadata": {},
   "outputs": [],
   "source": [
    "import lancedb\n",
    "\n",
    "db = lancedb.connect(\"data/sample-lancedb\")\n",
    "data = [\n",
    "    {\"vector\": [3.1, 4.1], \"item\": \"foo\", \"price\": 10.0},\n",
    "    {\"vector\": [5.9, 26.5], \"item\": \"bar\", \"price\": 20.0}\n",
    "]\n",
    "table = db.create_table(\"pd_table\", data=data)"
   ]
  },
  {
   "cell_type": "code",
   "execution_count": 2,
   "id": "131d93e7",
   "metadata": {},
   "outputs": [
    {
     "data": {
      "text/plain": [
       "<lance.dataset.LanceDataset at 0x1213141d0>"
      ]
     },
     "execution_count": 2,
     "metadata": {},
     "output_type": "execute_result"
    }
   ],
   "source": [
    "table.to_lance()"
   ]
  }
 ],
 "metadata": {
  "kernelspec": {
   "display_name": "base",
   "language": "python",
   "name": "python3"
  },
  "language_info": {
   "codemirror_mode": {
    "name": "ipython",
    "version": 3
   },
   "file_extension": ".py",
   "mimetype": "text/x-python",
   "name": "python",
   "nbconvert_exporter": "python",
   "pygments_lexer": "ipython3",
   "version": "3.11.11"
  }
 },
 "nbformat": 4,
 "nbformat_minor": 5
}
