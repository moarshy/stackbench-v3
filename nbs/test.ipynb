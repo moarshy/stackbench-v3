{
 "cells": [
  {
   "cell_type": "code",
   "execution_count": 1,
   "id": "37b380f0",
   "metadata": {},
   "outputs": [],
   "source": [
    "import lancedb\n",
    "\n",
    "\n",
    "uri = \"data/sample-lancedb\"\n",
    "db = lancedb.connect(uri)"
   ]
  },
  {
   "cell_type": "code",
   "execution_count": 2,
   "id": "131d93e7",
   "metadata": {},
   "outputs": [
    {
     "data": {
      "text/plain": [
       "<lance.dataset.LanceDataset at 0x1213141d0>"
      ]
     },
     "execution_count": 2,
     "metadata": {},
     "output_type": "execute_result"
    }
   ],
   "source": [
    "table.to_lance()"
   ]
  },
  {
   "cell_type": "code",
   "execution_count": 6,
   "id": "dbcafe50",
   "metadata": {},
   "outputs": [
    {
     "data": {
      "text/plain": [
       "AddResult(version=2)"
      ]
     },
     "execution_count": 6,
     "metadata": {},
     "output_type": "execute_result"
    }
   ],
   "source": [
    "import polars as pl\n",
    "from lancedb.pydantic import Vector, LanceModel\n",
    "\n",
    "data = pl.DataFrame(\n",
    "    {\n",
    "        \"vector\": [[3.1, 4.1], [5.9, 26.5]],\n",
    "        \"item\": [\"foo\", \"bar\"],\n",
    "        \"price\": [10.0, 20.0],\n",
    "    }\n",
    ")\n",
    "class Item(LanceModel):\n",
    "    vector: Vector(2)\n",
    "    item: str\n",
    "    price: float\n",
    "\n",
    "table = db.create_table(\"pydantic_table\", schema=Item)\n",
    "df = pl.DataFrame(data)\n",
    "# Add Polars DataFrame to table\n",
    "table.add(df)"
   ]
  },
  {
   "cell_type": "code",
   "execution_count": 7,
   "id": "17607d50",
   "metadata": {},
   "outputs": [
    {
     "name": "stdout",
     "output_type": "stream",
     "text": [
      "shape: (1, 4)\n",
      "┌───────────────┬──────┬───────┬───────────┐\n",
      "│ vector        ┆ item ┆ price ┆ _distance │\n",
      "│ ---           ┆ ---  ┆ ---   ┆ ---       │\n",
      "│ array[f32, 2] ┆ str  ┆ f64   ┆ f32       │\n",
      "╞═══════════════╪══════╪═══════╪═══════════╡\n",
      "│ [3.1, 4.1]    ┆ foo  ┆ 10.0  ┆ 0.02      │\n",
      "└───────────────┴──────┴───────┴───────────┘\n",
      "<class 'polars.dataframe.frame.DataFrame'>\n"
     ]
    }
   ],
   "source": [
    "query = [3.0, 4.0]\n",
    "result = table.search(query).limit(1).to_polars()\n",
    "print(result)\n",
    "print(type(result))"
   ]
  },
  {
   "cell_type": "code",
   "execution_count": 8,
   "id": "81460769",
   "metadata": {},
   "outputs": [
    {
     "ename": "ModuleNotFoundError",
     "evalue": "pl.scan_pyarrow_dataset requires 'polars' module to be installed",
     "output_type": "error",
     "traceback": [
      "\u001b[31m---------------------------------------------------------------------------\u001b[39m",
      "\u001b[31mModuleNotFoundError\u001b[39m                       Traceback (most recent call last)",
      "\u001b[36mCell\u001b[39m\u001b[36m \u001b[39m\u001b[32mIn[8]\u001b[39m\u001b[32m, line 1\u001b[39m\n\u001b[32m----> \u001b[39m\u001b[32m1\u001b[39m ldf = \u001b[43mtable\u001b[49m\u001b[43m.\u001b[49m\u001b[43mto_polars\u001b[49m\u001b[43m(\u001b[49m\u001b[43m)\u001b[49m\n\u001b[32m      2\u001b[39m \u001b[38;5;28mprint\u001b[39m(\u001b[38;5;28mtype\u001b[39m(ldf))\n",
      "\u001b[36mFile \u001b[39m\u001b[32m~/miniforge3/lib/python3.11/site-packages/lancedb/table.py:1979\u001b[39m, in \u001b[36mLanceTable.to_polars\u001b[39m\u001b[34m(self, batch_size)\u001b[39m\n\u001b[32m   1976\u001b[39m \u001b[38;5;28;01mfrom\u001b[39;00m\u001b[38;5;250m \u001b[39m\u001b[34;01mlancedb\u001b[39;00m\u001b[34;01m.\u001b[39;00m\u001b[34;01mintegrations\u001b[39;00m\u001b[34;01m.\u001b[39;00m\u001b[34;01mpyarrow\u001b[39;00m\u001b[38;5;250m \u001b[39m\u001b[38;5;28;01mimport\u001b[39;00m PyarrowDatasetAdapter\n\u001b[32m   1978\u001b[39m dataset = PyarrowDatasetAdapter(\u001b[38;5;28mself\u001b[39m)\n\u001b[32m-> \u001b[39m\u001b[32m1979\u001b[39m \u001b[38;5;28;01mreturn\u001b[39;00m \u001b[43mpl\u001b[49m\u001b[43m.\u001b[49m\u001b[43mscan_pyarrow_dataset\u001b[49m(\n\u001b[32m   1980\u001b[39m     dataset, allow_pyarrow_filter=\u001b[38;5;28;01mFalse\u001b[39;00m, batch_size=batch_size\n\u001b[32m   1981\u001b[39m )\n",
      "\u001b[36mFile \u001b[39m\u001b[32m~/miniforge3/lib/python3.11/site-packages/lancedb/dependencies.py:115\u001b[39m, in \u001b[36m_LazyModule.__getattr__\u001b[39m\u001b[34m(self, attr)\u001b[39m\n\u001b[32m    112\u001b[39m \u001b[38;5;28;01melse\u001b[39;00m:\n\u001b[32m    113\u001b[39m     \u001b[38;5;66;03m# all other attribute access raises a helpful exception\u001b[39;00m\n\u001b[32m    114\u001b[39m     pfx = \u001b[38;5;28mself\u001b[39m._mod_pfx.get(\u001b[38;5;28mself\u001b[39m._module_name, \u001b[33m\"\u001b[39m\u001b[33m\"\u001b[39m)\n\u001b[32m--> \u001b[39m\u001b[32m115\u001b[39m     \u001b[38;5;28;01mraise\u001b[39;00m \u001b[38;5;167;01mModuleNotFoundError\u001b[39;00m(\n\u001b[32m    116\u001b[39m         \u001b[33mf\u001b[39m\u001b[33m\"\u001b[39m\u001b[38;5;132;01m{\u001b[39;00mpfx\u001b[38;5;132;01m}\u001b[39;00m\u001b[38;5;132;01m{\u001b[39;00mattr\u001b[38;5;132;01m}\u001b[39;00m\u001b[33m requires \u001b[39m\u001b[38;5;132;01m{\u001b[39;00m\u001b[38;5;28mself\u001b[39m._module_name\u001b[38;5;132;01m!r}\u001b[39;00m\u001b[33m module to be installed\u001b[39m\u001b[33m\"\u001b[39m\n\u001b[32m    117\u001b[39m     ) \u001b[38;5;28;01mfrom\u001b[39;00m\u001b[38;5;250m \u001b[39m\u001b[38;5;28;01mNone\u001b[39;00m\n",
      "\u001b[31mModuleNotFoundError\u001b[39m: pl.scan_pyarrow_dataset requires 'polars' module to be installed"
     ]
    }
   ],
   "source": [
    "ldf = table.to_polars()\n",
    "print(type(ldf))"
   ]
  },
  {
   "cell_type": "code",
   "execution_count": null,
   "id": "26510b4c",
   "metadata": {},
   "outputs": [],
   "source": []
  }
 ],
 "metadata": {
  "kernelspec": {
   "display_name": "base",
   "language": "python",
   "name": "python3"
  },
  "language_info": {
   "codemirror_mode": {
    "name": "ipython",
    "version": 3
   },
   "file_extension": ".py",
   "mimetype": "text/x-python",
   "name": "python",
   "nbconvert_exporter": "python",
   "pygments_lexer": "ipython3",
   "version": "3.11.11"
  }
 },
 "nbformat": 4,
 "nbformat_minor": 5
}
